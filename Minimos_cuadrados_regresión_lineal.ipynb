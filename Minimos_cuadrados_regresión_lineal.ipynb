{
  "nbformat": 4,
  "nbformat_minor": 0,
  "metadata": {
    "colab": {
      "provenance": [],
      "authorship_tag": "ABX9TyM93Wyk9H1pokSZx7WHTSPH",
      "include_colab_link": true
    },
    "kernelspec": {
      "name": "python3",
      "display_name": "Python 3"
    },
    "language_info": {
      "name": "python"
    }
  },
  "cells": [
    {
      "cell_type": "markdown",
      "metadata": {
        "id": "view-in-github",
        "colab_type": "text"
      },
      "source": [
        "<a href=\"https://colab.research.google.com/github/RaulOrtiz2000/ml_2023/blob/main/Minimos_cuadrados_regresi%C3%B3n_lineal.ipynb\" target=\"_parent\"><img src=\"https://colab.research.google.com/assets/colab-badge.svg\" alt=\"Open In Colab\"/></a>"
      ]
    },
    {
      "cell_type": "code",
      "execution_count": 1,
      "metadata": {
        "id": "9j6nEK9j_V1b"
      },
      "outputs": [],
      "source": [
        "import numpy as np\n",
        "import matplotlib.pyplot as plt \n",
        "import pandas as pd"
      ]
    },
    {
      "cell_type": "code",
      "source": [
        "1545.2\n",
        "n = int(input(\"ingrese la cantidad de elementos\"))\n",
        "\n",
        "listaX=[]\n",
        "\n",
        "for i in range(n):\n",
        "  listaX.append(float(input(\"Ingrese numero: \")))\n",
        "\n",
        "  print(listaX)\n",
        "\n",
        "print(\"Ingresa lista para Y\")\n",
        "print(\" \")\n",
        "print(\" \")\n",
        "\n",
        "listaY=[]\n",
        "\n",
        "for i in range(n):\n",
        "  listaY.append(float(input(\"Ingrese numero: \")))\n",
        "\n",
        "  print(listaY)"
      ],
      "metadata": {
        "colab": {
          "base_uri": "https://localhost:8080/"
        },
        "id": "blS1mP66_dcZ",
        "outputId": "c21e26b1-c1dc-4d0f-9b98-656f541d90b3"
      },
      "execution_count": 2,
      "outputs": [
        {
          "output_type": "stream",
          "name": "stdout",
          "text": [
            "ingrese la cantidad de elementos2\n",
            "Ingrese numero: 5\n",
            "[5.0]\n",
            "Ingrese numero: 10\n",
            "[5.0, 10.0]\n",
            "Ingresa lista para Y\n",
            " \n",
            " \n",
            "Ingrese numero: 2\n",
            "[2.0]\n",
            "Ingrese numero: 8\n",
            "[2.0, 8.0]\n"
          ]
        }
      ]
    },
    {
      "cell_type": "code",
      "source": [
        "sumalistaX = sum(listaX)\n",
        "sumalistaY = sum(listaY)\n",
        "\n",
        "r_xy = np.multiply(listaX,listaY)\n",
        "suma_xy=sum(r_xy)\n",
        "cuadrado = np.multiply(listaX,listaX)\n",
        "cuad=sum(cuadrado)\n",
        "\n",
        "\n",
        "print(\"La sumatoria de los elementos de X es: \", sumalistaX)\n",
        "print(\"La sumatoria de los elementos de Y es: \", sumalistaY)\n",
        "print(\"La sumatoria de la multiplicacion de ambos es: \", suma_xy)\n",
        "print(\"Sumaroria de xi al cuadrado es: \", cuad)"
      ],
      "metadata": {
        "colab": {
          "base_uri": "https://localhost:8080/"
        },
        "id": "bhEeXfGg_dzh",
        "outputId": "81a278de-53c0-4eae-a687-43f89d1b7568"
      },
      "execution_count": 3,
      "outputs": [
        {
          "output_type": "stream",
          "name": "stdout",
          "text": [
            "La sumatoria de los elementos de X es:  15.0\n",
            "La sumatoria de los elementos de Y es:  10.0\n",
            "La sumatoria de la multiplicacion de ambos es:  90.0\n",
            "Sumaroria de xi al cuadrado es:  125.0\n"
          ]
        }
      ]
    },
    {
      "cell_type": "code",
      "source": [
        "parteAbajoA = (n*cuad) - (np.multiply(sumalistaX,sumalistaX))\n",
        "parteArribaA = (n*suma_xy) - (sumalistaX*sumalistaY)\n",
        "\n",
        "a = parteArribaA/parteAbajoA\n",
        "\n",
        "print(\"valor de a: \", a)\n",
        "\n",
        "\n",
        "parteAbajoB = (n*cuad) - (np.multiply(sumalistaX,sumalistaX))\n",
        "parteArribaB = (sumalistaY*cuad) - (suma_xy*sumalistaX)\n",
        "\n",
        "b = parteArribaB/parteAbajoB\n",
        "\n",
        "\n",
        "print(\"valor de b: \", b)"
      ],
      "metadata": {
        "colab": {
          "base_uri": "https://localhost:8080/"
        },
        "id": "-nFwN-fd_eWD",
        "outputId": "0d1aa839-0214-42ae-fdb8-bd59b4b3bfdc"
      },
      "execution_count": 4,
      "outputs": [
        {
          "output_type": "stream",
          "name": "stdout",
          "text": [
            "valor de a:  1.2\n",
            "valor de b:  -4.0\n"
          ]
        }
      ]
    },
    {
      "cell_type": "code",
      "source": [
        "def mult(b, listaX):\n",
        "    return [a + (b *  listaX[i]) for i in range(len(listaX))]\n",
        "\n",
        "print(mult(b, listaX))\n",
        "\n",
        "\n",
        "\n",
        "plt.scatter(listaX,listaY)\n",
        "plt.plot(listaX,mult(b, listaX))\n",
        "plt.show()"
      ],
      "metadata": {
        "colab": {
          "base_uri": "https://localhost:8080/",
          "height": 450
        },
        "id": "ZiNusgv__eyg",
        "outputId": "27963f34-b2f7-42d0-9512-fd843afbe7fb"
      },
      "execution_count": 5,
      "outputs": [
        {
          "output_type": "stream",
          "name": "stdout",
          "text": [
            "[-18.8, -38.8]\n"
          ]
        },
        {
          "output_type": "display_data",
          "data": {
            "text/plain": [
              "<Figure size 640x480 with 1 Axes>"
            ],
            "image/png": "[encoded data removed]"
          },
          "metadata": {}
        }
      ]
    },
    {
      "cell_type": "code",
      "source": [],
      "metadata": {
        "id": "548rJbbz_0vW"
      },
      "execution_count": null,
      "outputs": []
    }
  ]
}